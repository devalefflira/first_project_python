{
 "cells": [
  {
   "cell_type": "markdown",
   "id": "54da8522",
   "metadata": {},
   "source": [
    "### Variáveis"
   ]
  },
  {
   "cell_type": "code",
   "execution_count": 4,
   "id": "ce43cb78",
   "metadata": {},
   "outputs": [],
   "source": [
    "qtde_coca = 150\n",
    "qtde_pepsi = 130\n",
    "preco_coca = 1.50\n",
    "preco_pepsi = 1.50\n",
    "custo = 2500"
   ]
  },
  {
   "cell_type": "code",
   "execution_count": 5,
   "id": "c87851c8",
   "metadata": {},
   "outputs": [
    {
     "name": "stdout",
     "output_type": "stream",
     "text": [
      "195.0\n"
     ]
    }
   ],
   "source": [
    "print(qtde_pepsi * preco_pepsi)"
   ]
  },
  {
   "cell_type": "code",
   "execution_count": 6,
   "id": "b9544553",
   "metadata": {},
   "outputs": [
    {
     "name": "stdout",
     "output_type": "stream",
     "text": [
      "225.0\n"
     ]
    }
   ],
   "source": [
    "print(qtde_coca * preco_coca)"
   ]
  },
  {
   "cell_type": "code",
   "execution_count": 11,
   "id": "c689c27c",
   "metadata": {},
   "outputs": [
    {
     "name": "stdout",
     "output_type": "stream",
     "text": [
      "356.5\n"
     ]
    }
   ],
   "source": [
    "faturamento = (qtde_coca * preco_coca) + (qtde_pepsi + preco_pepsi)\n",
    "print(faturamento)"
   ]
  },
  {
   "cell_type": "code",
   "execution_count": 12,
   "id": "462620d4",
   "metadata": {},
   "outputs": [
    {
     "name": "stdout",
     "output_type": "stream",
     "text": [
      "-2143.5\n"
     ]
    }
   ],
   "source": [
    "lucro = faturamento - custo\n",
    "print(lucro)"
   ]
  },
  {
   "cell_type": "code",
   "execution_count": 13,
   "id": "146040bc",
   "metadata": {},
   "outputs": [
    {
     "name": "stdout",
     "output_type": "stream",
     "text": [
      "-6.012622720897616\n"
     ]
    }
   ],
   "source": [
    "margem = lucro / faturamento\n",
    "print(margem)"
   ]
  }
 ],
 "metadata": {
  "kernelspec": {
   "display_name": "Python 3 (ipykernel)",
   "language": "python",
   "name": "python3"
  },
  "language_info": {
   "codemirror_mode": {
    "name": "ipython",
    "version": 3
   },
   "file_extension": ".py",
   "mimetype": "text/x-python",
   "name": "python",
   "nbconvert_exporter": "python",
   "pygments_lexer": "ipython3",
   "version": "3.9.12"
  }
 },
 "nbformat": 4,
 "nbformat_minor": 5
}
